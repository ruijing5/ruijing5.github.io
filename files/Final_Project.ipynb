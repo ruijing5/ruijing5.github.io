{
  "nbformat": 4,
  "nbformat_minor": 0,
  "metadata": {
    "colab": {
      "provenance": []
    },
    "kernelspec": {
      "name": "python3",
      "display_name": "Python 3"
    },
    "language_info": {
      "name": "python"
    }
  },
  "cells": [
    {
      "cell_type": "markdown",
      "source": [
        "# Flashcard Creation"
      ],
      "metadata": {
        "id": "5qaWbPPrAas1"
      }
    },
    {
      "cell_type": "code",
      "execution_count": 6,
      "metadata": {
        "id": "qubOCzHfdbAT"
      },
      "outputs": [],
      "source": [
        "import json\n",
        "import os\n",
        "\n",
        "def create_flashcards(num_cards: int) -> dict:\n",
        "    \"\"\"\n",
        "    function that takes one integer paremeter, num_cards, and asks the user to\n",
        "    create flashcards by providing words with less than or equal to 20 characters\n",
        "    and its corresponding definition, and returns everything as a dictionary\n",
        "\n",
        "    Args:\n",
        "        num_cards:          number of flashcards the user wished to make\n",
        "\n",
        "    Returns:\n",
        "        all_cards:          a dictionary created by the user where each item is\n",
        "                            a flashcard: the key is the vocab less than 20\n",
        "                            characters, and the value is the definition\n",
        "\n",
        "    Examples:\n",
        "        >>> create_flashcards():\n",
        "            How many flashcards would you like to create today? 3\n",
        "            Word 1: apple\n",
        "                Word 1's definition: red\n",
        "            Word 2: banana\n",
        "                Word 2's definition: yellow\n",
        "            Word 3: grape\n",
        "                Word 3's definition: purple\n",
        "            {'apple': red, 'banana': yellow, 'graphe': yellow}\n",
        "    \"\"\"\n",
        "    new_cards = {}\n",
        "    fname = \"created_flashcards.json\"\n",
        "\n",
        "    # if file exists and have content: load all data to all_cards\n",
        "    if os.path.exists(fname) == True and os.path.getsize(fname) > 0:\n",
        "        with open(fname, \"r\") as file:\n",
        "            all_cards = json.load(file)\n",
        "\n",
        "    # if file doesn't exist or have no content just initialize empty all_cards\n",
        "    else:\n",
        "        all_cards = {}\n",
        "\n",
        "    # creating the cards\n",
        "    if num_cards < 0:\n",
        "        print(\"Invalid Input!\")\n",
        "        return {}\n",
        "\n",
        "    elif num_cards == 0:\n",
        "        return all_cards\n",
        "\n",
        "    else:\n",
        "        for i in range(int(num_cards)):\n",
        "\n",
        "            # i + 1 as indexing starts at 0 but daily counting start at 1\n",
        "            vocab = input(f'Word {i+1}: ').title()\n",
        "            definition = input(f\"   Word {i+1}'s definition: \").title()\n",
        "            new_cards[vocab] = definition\n",
        "\n",
        "        all_cards.update(new_cards)\n",
        "\n",
        "        # create or update the file depending on whether it previously existed\n",
        "        with open(fname, \"w\") as file:\n",
        "            json.dump(all_cards, file, indent=4)\n",
        "\n",
        "        return all_cards"
      ]
    },
    {
      "cell_type": "code",
      "source": [
        "# TEST CASES\n",
        "\n",
        "# when input = 0\n",
        "assert create_flashcards(0) == {}\n",
        "\n",
        "# when input = -1:\n",
        "assert create_flashcards(-1) == {}\n",
        "\n",
        "# Starting from scratch: when input = 2, and user enters word1 as \"apple\" and\n",
        "# definition 1 as \"red\" and word2 as \"banana\" and definition 2 as \"yellow\"\n",
        "assert create_flashcards(2) == {'Apple': 'Red', 'Banana': 'Yellow'}\n",
        "\n",
        "# Building: user creates another card on top of previous two cards called\n",
        "# \"grape\" and provided definition as \"purple\"\n",
        "assert create_flashcards(1) == {'Apple': 'Red', 'Banana': 'Yellow', \"Grape\": \"Purple\"}"
      ],
      "metadata": {
        "colab": {
          "base_uri": "https://localhost:8080/"
        },
        "id": "wsvaPC0rJjWo",
        "outputId": "ac3fe3bc-13f7-45f3-c11c-dbd30fdb8598"
      },
      "execution_count": null,
      "outputs": [
        {
          "name": "stdout",
          "output_type": "stream",
          "text": [
            "Invalid Input!\n",
            "Word 1: apple\n",
            "   Word 1's definition: red\n",
            "Word 2: banana\n",
            "   Word 2's definition: yellow\n",
            "Word 1: grape\n",
            "   Word 1's definition: purple\n"
          ]
        }
      ]
    },
    {
      "cell_type": "markdown",
      "source": [
        "# Displaying the Flashcards"
      ],
      "metadata": {
        "id": "uAgjxO8nAyvl"
      }
    },
    {
      "cell_type": "code",
      "source": [
        "def display_flashcards(word: str) -> None:\n",
        "    \"\"\"\n",
        "    Function that accepts a single string parameter, word, and prints a\n",
        "    22 \"-\" by 5 \"-\" flashcard with that word in the center\n",
        "\n",
        "    Args:\n",
        "        word:           one word from flashcards created by the user\n",
        "\n",
        "    Returns:\n",
        "        None\n",
        "\n",
        "    Examples:\n",
        "        >>> display_fashcards(\"apple\")\n",
        "            ----------------------\n",
        "            -                    -\n",
        "            -       apple        -\n",
        "            -                    -\n",
        "            ----------------------\n",
        "    \"\"\"\n",
        "    border = '-' * 22\n",
        "    empty = f'-{\" \" * 20}-'\n",
        "    word_line = f'-{word.center(20)}-'\n",
        "\n",
        "    print(border)\n",
        "    print(empty)\n",
        "    print(word_line)\n",
        "    print(empty)\n",
        "    print(border)"
      ],
      "metadata": {
        "id": "hAZN0I9llIrf"
      },
      "execution_count": null,
      "outputs": []
    },
    {
      "cell_type": "code",
      "source": [
        "# TEST CASES\n",
        "\n",
        "# Regular word\n",
        "display_flashcards(\"osteoblast\")\n",
        "\n",
        "# Longest possible word with 20 characters\n",
        "display_flashcards(\"01234567890123456789\")\n",
        "\n",
        "# Word that is too long\n",
        "display_flashcards(\"this is tooooooooooooo long\")\n",
        "\n",
        "# Empty card\n",
        "display_flashcards(\"\")"
      ],
      "metadata": {
        "colab": {
          "base_uri": "https://localhost:8080/"
        },
        "id": "TpzXsYzW_40n",
        "outputId": "89406757-0715-4dd1-f0d2-c0408a0fe8c3"
      },
      "execution_count": null,
      "outputs": [
        {
          "output_type": "stream",
          "name": "stdout",
          "text": [
            "----------------------\n",
            "-                    -\n",
            "-     osteoblast     -\n",
            "-                    -\n",
            "----------------------\n",
            "----------------------\n",
            "-                    -\n",
            "-01234567890123456789-\n",
            "-                    -\n",
            "----------------------\n",
            "----------------------\n",
            "-                    -\n",
            "-this is tooooooooooooo long-\n",
            "-                    -\n",
            "----------------------\n",
            "----------------------\n",
            "-                    -\n",
            "-                    -\n",
            "-                    -\n",
            "----------------------\n"
          ]
        }
      ]
    },
    {
      "cell_type": "markdown",
      "source": [
        "There is no formal test cases with assert statements for display_flashcards because I'm printing and not returning. However, from the printed statements above we can see that the longest word length it can take is 20. Anything longer than that will be considered as invalid.\n"
      ],
      "metadata": {
        "id": "BEwijSxQjgUf"
      }
    },
    {
      "cell_type": "markdown",
      "source": [
        "# Practice Flashcards"
      ],
      "metadata": {
        "id": "Wb49ikmCAh6m"
      }
    },
    {
      "cell_type": "code",
      "source": [
        "import random\n",
        "import time\n",
        "from IPython.display import HTML, display\n",
        "\n",
        "def practice(flashcards: dict) -> dict:\n",
        "    \"\"\"\n",
        "    function that accepts a dictionary, flashcards, representing the cards\n",
        "    created by the user, and creates randomized prompts quizzing the user and\n",
        "    returns a dictionary containing specific data\n",
        "\n",
        "    If the user answers correctly:      green \"correct\" message will be displayed\n",
        "\n",
        "    If the user answers incorrectly:    red \"Incorrect\" message will be displayed\n",
        "                                        and the flashcard will be returned back\n",
        "                                        into the study deck. This process will\n",
        "                                        continue until the user answers correctly\n",
        "\n",
        "    Args:\n",
        "        flashcards:         a dictionary of flashcards where keys are the\n",
        "                            vocab, and values are the definitions\n",
        "\n",
        "    Returns:\n",
        "        progress:           a dictionary with string vocab keys and list values\n",
        "                            containing the number of tries and the total time\n",
        "                            they took before giving the correct definition\n",
        "\n",
        "\n",
        "    Examples:\n",
        "        >>> practice({'Apple': 'Red', 'Banana': 'Yellow', 'Grape': 'Purple'})\n",
        "            Define Apple: red\n",
        "            Correct\n",
        "            Define Banana: yellow\n",
        "            correct\n",
        "             Define Grape: green\n",
        "            Incorrect\n",
        "            Define Grape: purple\n",
        "            Correct\n",
        "            {'Apple': [1, 2.554],\n",
        "             'Banana': [1, 2.286],\n",
        "             'Grape': [2, 12.589]}\n",
        "    \"\"\"\n",
        "    progress = {}\n",
        "\n",
        "    vocabs = list(flashcards.keys())\n",
        "\n",
        "    # creating the base case for each vocab\n",
        "    for vocab in vocabs:\n",
        "        progress[vocab] = [0, 0]\n",
        "\n",
        "    while vocabs:\n",
        "        # -1 to avoid looping out of range because randint is inclusive\n",
        "        index = random.randint(0, len(vocabs)-1)\n",
        "        word = vocabs.pop(index)\n",
        "\n",
        "        display_flashcards(word)\n",
        "\n",
        "        start = time.time()\n",
        "\n",
        "        answer = input().title()\n",
        "\n",
        "        if answer == flashcards[word]:\n",
        "            display(HTML(f\"<h4 style='color: #00ff2a;'>Correct! </h4>\"))\n",
        "        else:\n",
        "            display(HTML(f\"<h4 style='color: #ff1919;'>Wrong! </h4>\"))\n",
        "            vocabs.append(word)\n",
        "\n",
        "        end = time.time()\n",
        "\n",
        "        progress[word][0] += 1\n",
        "        progress[word][1] += round((end-start), 3)\n",
        "\n",
        "    return progress"
      ],
      "metadata": {
        "id": "bZkT--LHxfzE"
      },
      "execution_count": 10,
      "outputs": []
    },
    {
      "cell_type": "code",
      "source": [
        "practice({'Apple': 'Red', 'Banana': 'Yellow', 'Grape': 'Purple'})"
      ],
      "metadata": {
        "colab": {
          "base_uri": "https://localhost:8080/",
          "height": 626
        },
        "id": "wsBuYGiDzEHQ",
        "outputId": "987913af-069d-48af-f86a-ec57d7d40341"
      },
      "execution_count": null,
      "outputs": [
        {
          "name": "stdout",
          "output_type": "stream",
          "text": [
            "----------------------\n",
            "-                    -\n",
            "-       Apple        -\n",
            "-                    -\n",
            "----------------------\n",
            "red\n"
          ]
        },
        {
          "output_type": "display_data",
          "data": {
            "text/plain": [
              "<IPython.core.display.HTML object>"
            ],
            "text/html": [
              "<h4 style='color: #00ff2a;'>Correct! </h4>"
            ]
          },
          "metadata": {}
        },
        {
          "name": "stdout",
          "output_type": "stream",
          "text": [
            "----------------------\n",
            "-                    -\n",
            "-       Banana       -\n",
            "-                    -\n",
            "----------------------\n",
            "yellow\n"
          ]
        },
        {
          "output_type": "display_data",
          "data": {
            "text/plain": [
              "<IPython.core.display.HTML object>"
            ],
            "text/html": [
              "<h4 style='color: #00ff2a;'>Correct! </h4>"
            ]
          },
          "metadata": {}
        },
        {
          "name": "stdout",
          "output_type": "stream",
          "text": [
            "----------------------\n",
            "-                    -\n",
            "-       Grape        -\n",
            "-                    -\n",
            "----------------------\n",
            "green\n"
          ]
        },
        {
          "output_type": "display_data",
          "data": {
            "text/plain": [
              "<IPython.core.display.HTML object>"
            ],
            "text/html": [
              "<h4 style='color: #ff1919;'>Wrong! </h4>"
            ]
          },
          "metadata": {}
        },
        {
          "name": "stdout",
          "output_type": "stream",
          "text": [
            "----------------------\n",
            "-                    -\n",
            "-       Grape        -\n",
            "-                    -\n",
            "----------------------\n",
            "purple\n"
          ]
        },
        {
          "output_type": "display_data",
          "data": {
            "text/plain": [
              "<IPython.core.display.HTML object>"
            ],
            "text/html": [
              "<h4 style='color: #00ff2a;'>Correct! </h4>"
            ]
          },
          "metadata": {}
        },
        {
          "output_type": "execute_result",
          "data": {
            "text/plain": [
              "{'Apple': [1, 2.554], 'Banana': [1, 2.286], 'Grape': [2, 12.589]}"
            ]
          },
          "metadata": {},
          "execution_count": 21
        }
      ]
    },
    {
      "cell_type": "markdown",
      "source": [
        "Since all of my previous methods have been tested, I won't be testing this with assert statements as time will be very hard to control. Instead, I will test this function by visually verifying the desired behavior of this function. In the example above, my vocab words were \"apple,\" \"banana,\" and \"grape.\" When I tested my knowledge, I got \"apple\" and \"banana\" correct on the first try and \"grape\" correct in two tries. The returned dictionary satisfies that as the first element in its values in each word matched my tries. In addition, my time spent, shown as the second element of the keys in the returned list, also matches my performance, showing that \"grape\" took significantly longer to answer correctly than \"apple\" and \"banana.\""
      ],
      "metadata": {
        "id": "CmBUrhdg042c"
      }
    },
    {
      "cell_type": "markdown",
      "source": [
        "# Progress Visualization"
      ],
      "metadata": {
        "id": "GJod83cuF4O2"
      }
    },
    {
      "cell_type": "code",
      "source": [
        "import matplotlib.pyplot as plt\n",
        "from matplotlib.patches import Patch\n",
        "\n",
        "def progress_visualization(progress: dict) -> None:\n",
        "    \"\"\"\n",
        "    Function that accepts a single dictionary parameter, progress, and generates\n",
        "    different types of graphs helping the user find their weakspots in knowledge\n",
        "\n",
        "    Args:\n",
        "        progress:           dictionary that have keys that keeps tracks of the\n",
        "                            words involved in the flashcards and values that\n",
        "                            keeps tracks of the number of times the user took\n",
        "                            before providing the correct definition\n",
        "\n",
        "    Returns:\n",
        "        None\n",
        "    \"\"\"\n",
        "    print('\"Attempts\" graphs the word & attempts used before perfection')\n",
        "    print('\"Times\" graphs the word & time spent on each word\\n')\n",
        "    choice = input(f'Which progress graph would you like to see? (Attempt or Time): \\n')\n",
        "\n",
        "    vocabs = list(progress.keys())\n",
        "    bar_colors = []\n",
        "    attempts = []\n",
        "    times = []\n",
        "\n",
        "    # importing data\n",
        "    for val in list(progress.values()):\n",
        "        attempts.append(val[0])\n",
        "        times.append(val[1])\n",
        "\n",
        "    plt.figure(figsize=(10, 4))\n",
        "\n",
        "    if choice.title() == \"Attempt\":\n",
        "        # show different color based on number of attempts\n",
        "        for attempt in attempts:\n",
        "            if attempt >= 3:\n",
        "                bar_colors.append(\"salmon\")\n",
        "            else:\n",
        "                bar_colors.append(\"palegreen\")\n",
        "\n",
        "        plt.bar(vocabs, attempts, color=bar_colors)\n",
        "        plt.title('Flashcards vs. Attemps Before Mastery Today')\n",
        "        plt.xlabel('Flashcards')\n",
        "        plt.ylabel('Attempts Before Mastery Today')\n",
        "\n",
        "    elif choice.title() == \"Time\":\n",
        "        # show different color based on time spent\n",
        "        for time in times:\n",
        "            if time >= 15:\n",
        "                bar_colors.append(\"salmon\")\n",
        "            else:\n",
        "                bar_colors.append(\"palegreen\")\n",
        "\n",
        "        plt.bar(vocabs, times, color=bar_colors)\n",
        "        plt.title('Time Took to Master Each Flashcard Today (green = mastered; red = need more effort)')\n",
        "        plt.xlabel('Flashcards')\n",
        "        plt.ylabel('Time Took Till Mastery Today')\n",
        "\n",
        "    else:\n",
        "        print(\"\\nInvalid Direction!\")\n",
        "\n",
        "    # create a common legend:\n",
        "    mapping_colors = [Patch(facecolor=\"salmon\", label=\"Needs Practice\"),\n",
        "                      Patch(facecolor=\"palegreen\", label=\"Mastery\")]\n",
        "    plt.legend(handles=mapping_colors, title='Legend', loc='upper left')\n",
        "\n",
        "    plt.show()"
      ],
      "metadata": {
        "id": "DkdwsFMiB1gp"
      },
      "execution_count": null,
      "outputs": []
    },
    {
      "cell_type": "code",
      "source": [
        "progress_visualization({'apple':[1, 10], 'banana': [5, 30], 'citris': [1, 5], 'dragonfruit': [10, 100]})"
      ],
      "metadata": {
        "colab": {
          "base_uri": "https://localhost:8080/",
          "height": 500
        },
        "id": "H20v4c6TFtkk",
        "outputId": "f1a39012-e912-4635-874f-5c862e6bd496"
      },
      "execution_count": null,
      "outputs": [
        {
          "output_type": "stream",
          "name": "stdout",
          "text": [
            "\"Attempts\" graphs the word & attempts used before perfection\n",
            "\"Times\" graphs the word & time spent on each word\n",
            "\n",
            "Which progress graph would you like to see? (Attempts or Time): \n",
            "N/A\n",
            "\n",
            "Invalid Direction!\n"
          ]
        },
        {
          "output_type": "display_data",
          "data": {
            "text/plain": [
              "<Figure size 1000x400 with 1 Axes>"
            ],
            "image/png": "[encoded data removed]"
          },
          "metadata": {}
        }
      ]
    },
    {
      "cell_type": "code",
      "source": [
        "progress_visualization({'a':[1, 10], 'b': [5, 30], 'c': [1, 5], 'd': [10, 100]})"
      ],
      "metadata": {
        "colab": {
          "base_uri": "https://localhost:8080/",
          "height": 500
        },
        "id": "RSlimVUqPCtZ",
        "outputId": "1f0a5a97-0d33-48bf-adaf-74a81e8ab6d6"
      },
      "execution_count": null,
      "outputs": [
        {
          "name": "stdout",
          "output_type": "stream",
          "text": [
            "\"Attempts\" graphs the word & attempts used before perfection\n",
            "\"Times\" graphs the word & time spent on each word\n",
            "\n",
            "Which progress graph would you like to see? (Attempts or Time): \n",
            "attempts\n"
          ]
        },
        {
          "output_type": "display_data",
          "data": {
            "text/plain": [
              "<Figure size 1000x400 with 1 Axes>"
            ],
            "image/png": "[encoded data removed]"
          },
          "metadata": {}
        }
      ]
    },
    {
      "cell_type": "code",
      "source": [
        "progress_visualization({'a':[1, 10], 'b': [5, 30], 'c': [1, 5], 'd': [10, 100]})"
      ],
      "metadata": {
        "colab": {
          "base_uri": "https://localhost:8080/",
          "height": 500
        },
        "id": "7gVzaWJOPaCb",
        "outputId": "c3536c20-ca05-45ed-ff24-bded1d9f32d2"
      },
      "execution_count": null,
      "outputs": [
        {
          "name": "stdout",
          "output_type": "stream",
          "text": [
            "\"Attempts\" graphs the word & attempts used before perfection\n",
            "\"Times\" graphs the word & time spent on each word\n",
            "\n",
            "Which progress graph would you like to see? (Attempts or Time): \n",
            "time\n"
          ]
        },
        {
          "output_type": "display_data",
          "data": {
            "text/plain": [
              "<Figure size 1000x400 with 1 Axes>"
            ],
            "image/png": "[encoded data removed]"
          },
          "metadata": {}
        }
      ]
    },
    {
      "cell_type": "markdown",
      "source": [
        "Once again, I don't have test cases for this because I'm just printing the graphs and not returning anything. However, the previous 3 printed graphs show that my function works, as the first one prints nothing when the user input is neither \"attempt\" nor \"time\"; the second prints the \"attempt\" graph, and the third prints the \"time\" graphs according to different user inputs. Bars will appear green if the user provides the correct answer before the 3rd try or spends less than 15 seconds trying to remember the word; Bars will appear red if the user provides the correct answer after the 3rd try or spends more than 15 seconds trying to remember the word."
      ],
      "metadata": {
        "id": "QRownBXkPgvE"
      }
    },
    {
      "cell_type": "markdown",
      "source": [
        "# Main Function"
      ],
      "metadata": {
        "id": "k5IkXx63QClR"
      }
    },
    {
      "cell_type": "code",
      "source": [
        "from IPython.display import HTML, display\n",
        "def main():\n",
        "    \"\"\"\n",
        "    Function simulates a flashcard app that allows users to customize their\n",
        "    flashcards, practice, see their progress, and keep track of their progress.\n",
        "\n",
        "    Definitions must be entered word per word as it is case sensitive.\n",
        "\n",
        "    Everything else should be case insensitive.\n",
        "\n",
        "    Args:\n",
        "        None\n",
        "\n",
        "    Returns:\n",
        "        None\n",
        "    \"\"\"\n",
        "    display(HTML(f\"<h2 style='color: #0033CC;'>Flashcard Creation </h2>\"))\n",
        "\n",
        "    starting_point = input(\"would you like to start from scratch or build off of yesterday's work(scratch / build)?\\n\")\n",
        "    num_cards = input(\"How many flashcards would you like to create today?\\n\")\n",
        "\n",
        "    fname = \"created_flashcards.json\"\n",
        "\n",
        "    if starting_point == \"scratch\":\n",
        "        with open(fname, \"w\") as file:\n",
        "            json.dump({}, file)\n",
        "\n",
        "    flashcards = create_flashcards(int(num_cards))\n",
        "\n",
        "    display(HTML(f\"<h2 style='color: #0033CC;'>Practice Time! </h2>\"))\n",
        "    progress = practice(flashcards)\n",
        "\n",
        "    display(HTML(f\"<h2 style='color: #0033CC;'>Progress Visualization! </h2>\"))\n",
        "    plotting_progress = progress_visualization(progress)\n",
        "\n",
        "    display(HTML(f\"<h2 style='color: black'>🎉💯🌈WELLDONE!✨🥳🍀</h2>\"))\n",
        "    display(HTML(f\"<h2 style='color: black'>🧦🎁🎅Merry Christmas Everyone & Have a Fabulous Winter Break!🎄🔔⛄</h2>\"))"
      ],
      "metadata": {
        "id": "DW-6ING2BTkz"
      },
      "execution_count": 11,
      "outputs": []
    },
    {
      "cell_type": "code",
      "source": [
        "main()"
      ],
      "metadata": {
        "colab": {
          "base_uri": "https://localhost:8080/",
          "height": 1000
        },
        "id": "DI3dDXADG6RH",
        "outputId": "424e3229-84d6-49a9-929c-8931f9bfeeb9"
      },
      "execution_count": 9,
      "outputs": [
        {
          "output_type": "display_data",
          "data": {
            "text/plain": [
              "<IPython.core.display.HTML object>"
            ],
            "text/html": [
              "<h2 style='color: #0033CC;'>Flashcard Creation </h2>"
            ]
          },
          "metadata": {}
        },
        {
          "name": "stdout",
          "output_type": "stream",
          "text": [
            "would you like to start from scratch or build off of yesterday's work(scratch / build)?\n",
            "build\n",
            "How many flashcards would you like to create today?\n",
            "1\n",
            "Word 1: osteoclast\n",
            "   Word 1's definition: destroys bone cells\n"
          ]
        },
        {
          "output_type": "display_data",
          "data": {
            "text/plain": [
              "<IPython.core.display.HTML object>"
            ],
            "text/html": [
              "<h2 style='color: #0033CC;'>Practice Time! </h2>"
            ]
          },
          "metadata": {}
        },
        {
          "name": "stdout",
          "output_type": "stream",
          "text": [
            "----------------------\n",
            "-                    -\n",
            "-  Osteoprogenitor   -\n",
            "-                    -\n",
            "----------------------\n",
            "stem cells\n"
          ]
        },
        {
          "output_type": "display_data",
          "data": {
            "text/plain": [
              "<IPython.core.display.HTML object>"
            ],
            "text/html": [
              "<h4 style='color: #00ff2a;'>Correct! </h4>"
            ]
          },
          "metadata": {}
        },
        {
          "name": "stdout",
          "output_type": "stream",
          "text": [
            "----------------------\n",
            "-                    -\n",
            "-     Osteoclast     -\n",
            "-                    -\n",
            "----------------------\n",
            "adadk;\n"
          ]
        },
        {
          "output_type": "display_data",
          "data": {
            "text/plain": [
              "<IPython.core.display.HTML object>"
            ],
            "text/html": [
              "<h4 style='color: #ff1919;'>Wrong! </h4>"
            ]
          },
          "metadata": {}
        },
        {
          "name": "stdout",
          "output_type": "stream",
          "text": [
            "----------------------\n",
            "-                    -\n",
            "-     Osteoblast     -\n",
            "-                    -\n",
            "----------------------\n",
            "a;lskd\n"
          ]
        },
        {
          "output_type": "display_data",
          "data": {
            "text/plain": [
              "<IPython.core.display.HTML object>"
            ],
            "text/html": [
              "<h4 style='color: #ff1919;'>Wrong! </h4>"
            ]
          },
          "metadata": {}
        },
        {
          "name": "stdout",
          "output_type": "stream",
          "text": [
            "----------------------\n",
            "-                    -\n",
            "-     Osteoclast     -\n",
            "-                    -\n",
            "----------------------\n",
            "destroys bone cells\n"
          ]
        },
        {
          "output_type": "display_data",
          "data": {
            "text/plain": [
              "<IPython.core.display.HTML object>"
            ],
            "text/html": [
              "<h4 style='color: #00ff2a;'>Correct! </h4>"
            ]
          },
          "metadata": {}
        },
        {
          "name": "stdout",
          "output_type": "stream",
          "text": [
            "----------------------\n",
            "-                    -\n",
            "-     Osteoblast     -\n",
            "-                    -\n",
            "----------------------\n",
            "Bone Matrix Making Cells\n"
          ]
        },
        {
          "output_type": "display_data",
          "data": {
            "text/plain": [
              "<IPython.core.display.HTML object>"
            ],
            "text/html": [
              "<h4 style='color: #00ff2a;'>Correct! </h4>"
            ]
          },
          "metadata": {}
        },
        {
          "output_type": "display_data",
          "data": {
            "text/plain": [
              "<IPython.core.display.HTML object>"
            ],
            "text/html": [
              "<h2 style='color: #0033CC;'>Progress Visualization! </h2>"
            ]
          },
          "metadata": {}
        },
        {
          "name": "stdout",
          "output_type": "stream",
          "text": [
            "\"Attempts\" graphs the word & attempts used before perfection\n",
            "\"Times\" graphs the word & time spent on each word\n",
            "\n",
            "Which progress graph would you like to see? (Attempt or Time): \n",
            "time\n"
          ]
        },
        {
          "output_type": "display_data",
          "data": {
            "text/plain": [
              "<Figure size 1000x400 with 1 Axes>"
            ],
            "image/png": "[encoded data removed]"
          },
          "metadata": {}
        },
        {
          "output_type": "display_data",
          "data": {
            "text/plain": [
              "<IPython.core.display.HTML object>"
            ],
            "text/html": [
              "<h2 style='color: black'>🎉💯🌈WELLDONE!✨🥳🍀</h2>"
            ]
          },
          "metadata": {}
        },
        {
          "output_type": "display_data",
          "data": {
            "text/plain": [
              "<IPython.core.display.HTML object>"
            ],
            "text/html": [
              "<h2 style='color: black'>🧦🎁🎅Merry Christmas everyone & Have a Fabulous Winter Break!🎄🔔⛄</h2>"
            ]
          },
          "metadata": {}
        }
      ]
    }
  ]
}